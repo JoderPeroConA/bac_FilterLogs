{
 "cells": [
  {
   "cell_type": "code",
   "execution_count": null,
   "metadata": {},
   "outputs": [],
   "source": [
    "import re\n",
    "# Leer los códigos de error desde el archivo \"codigos de error.txt\"\n",
    "with open('codigos de error.txt', 'r') as file:\n",
    "    cods_errores = file.read()\n",
    "\n",
    "# Eliminar líneas que comienzan con '#' del contenido\n",
    "cods_errores = re.sub(r'#.*\\n', '', cods_errores)\n",
    "\n",
    "# Reemplazar comas y saltos de línea con el operador de alternancia '|'\n",
    "cods_errores = re.sub(r'[,\\n]', '|', cods_errores)\n",
    "\n",
    "# Remover posibles duplicados de |\n",
    "cods_errores = re.sub(r'\\|+', '|', cods_errores)\n",
    "\n",
    "\n",
    "# Leer el contenido del archivo log\n",
    "path_archivoLog=r'C:\\Users\\Rentadvisor\\Documents\\Ansible\\AMQERR01.LOG'\n",
    "with open(path_archivoLog, 'r') as file:\n",
    "    texto = file.read()\n",
    "\n",
    "##Solo Separa cada parrafo de error entre separadores\n",
    "resultados = re.findall(r'^-{5,}\\s(?:.+?)\\s-{5,}\\n([\\s\\S]*?)(?=^-{5,}|\\Z)', texto, re.MULTILINE)\n",
    "\n",
    "# Filtrar resultados que contienen los códigos de error\n",
    "resultados_con_errores = [contenido for contenido in resultados if re.search(cods_errores, contenido)]\n",
    "\n",
    "# Imprimir los resultados con errores\n",
    "for i, contenido in enumerate(resultados_con_errores, start=1):\n",
    "    print(f\"Resultado {i}:\\n\")\n",
    "    print(contenido.strip())\n",
    "    print(\"=\"*40)"
   ]
  },
  {
   "cell_type": "code",
   "execution_count": 1,
   "metadata": {},
   "outputs": [],
   "source": [
    "import re\n",
    "\n",
    "def extraerCodigosError(path_File_CodError, path_File_Log, path_File_Output):\n",
    "    # Leer los códigos de error desde el archivo \"codigos de error.txt\"\n",
    "    with open(path_File_CodError, 'r') as file:\n",
    "        cods_errores = file.read()\n",
    "\n",
    "    # Eliminar líneas que comienzan con '#' del contenido\n",
    "    cods_errores = re.sub(r'#.*\\n', '', cods_errores)\n",
    "\n",
    "    # Reemplazar comas y saltos de línea con el operador de alternancia '|'\n",
    "    cods_errores = re.sub(r'[,\\n]', '|', cods_errores)\n",
    "\n",
    "    # Remover posibles duplicados de |\n",
    "    cods_errores = re.sub(r'\\|+', '|', cods_errores)\n",
    "\n",
    "    # Leer el contenido del archivo log\n",
    "    with open(path_File_Log, 'r') as file:\n",
    "        texto = file.read()\n",
    "\n",
    "    ##Solo Separa cada parrafo de error entre separadores\n",
    "    resultados = re.findall(r'^-{5,}\\s(?:.+?)\\s-{5,}\\n([\\s\\S]*?)(?=^-{5,}|\\Z)', texto, re.MULTILINE)\n",
    "\n",
    "    # Filtrar resultados que contienen los códigos de error\n",
    "    resultados_con_errores = [contenido for contenido in resultados if re.search(cods_errores, contenido)]\n",
    "\n",
    "    # Imprimir los resultados con errores\n",
    "    for i, contenido in enumerate(resultados_con_errores, start=1):\n",
    "        print(f\"Resultado {i}:\\n\")\n",
    "        print(contenido.strip())\n",
    "        print(\"=\"*40)\n",
    "\n",
    "    # Guardar los resultados en un archivo\n",
    "    with open(path_File_Output, 'w') as file:\n",
    "        for contenido in resultados_con_errores:\n",
    "            file.write(contenido.strip() + \"\\n\")"
   ]
  },
  {
   "cell_type": "code",
   "execution_count": null,
   "metadata": {},
   "outputs": [],
   "source": []
  }
 ],
 "metadata": {
  "kernelspec": {
   "display_name": "Python 3",
   "language": "python",
   "name": "python3"
  },
  "language_info": {
   "codemirror_mode": {
    "name": "ipython",
    "version": 3
   },
   "file_extension": ".py",
   "mimetype": "text/x-python",
   "name": "python",
   "nbconvert_exporter": "python",
   "pygments_lexer": "ipython3",
   "version": "3.10.2"
  },
  "orig_nbformat": 4
 },
 "nbformat": 4,
 "nbformat_minor": 2
}
